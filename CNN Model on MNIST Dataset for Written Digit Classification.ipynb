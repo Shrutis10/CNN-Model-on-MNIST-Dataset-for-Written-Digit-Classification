{
 "cells": [
  {
   "cell_type": "markdown",
   "id": "7f308f08-a916-4655-8356-35ba1184dcd8",
   "metadata": {},
   "source": [
    "### CNN Model on MNIST Dataset for Written Digit Classification"
   ]
  },
  {
   "cell_type": "code",
   "execution_count": 1,
   "id": "a547d7d9-3f50-4762-87a3-0513fa9328f0",
   "metadata": {},
   "outputs": [],
   "source": [
    "from keras.datasets import mnist\n",
    "from tensorflow.keras.utils import to_categorical\n",
    "from keras.models import Sequential\n",
    "from keras.layers import Dense\n",
    "from keras.layers import Conv2D, MaxPooling2D,Flatten,Dense\n",
    "import numpy as np\n",
    "import matplotlib.pyplot as plt"
   ]
  },
  {
   "cell_type": "code",
   "execution_count": 2,
   "id": "99b1c4bf-555d-45ad-825f-9e37633d5e78",
   "metadata": {},
   "outputs": [],
   "source": [
    "(train_X, train_Y),(test_X, test_Y)=mnist.load_data()"
   ]
  },
  {
   "cell_type": "code",
   "execution_count": 3,
   "id": "b58113af-d141-432e-841c-8a5f8af3d3d5",
   "metadata": {},
   "outputs": [
    {
     "name": "stdout",
     "output_type": "stream",
     "text": [
      "Train: X= (60000, 28, 28)\n",
      "Train: Y= (60000,)\n",
      "Test: X= (10000, 28, 28)\n",
      "Test: Y= (10000,)\n"
     ]
    }
   ],
   "source": [
    "print('Train: X=',train_X.shape)\n",
    "print('Train: Y=',train_Y.shape)\n",
    "print('Test: X=',test_X.shape)\n",
    "print('Test: Y=',test_Y.shape)"
   ]
  },
  {
   "cell_type": "code",
   "execution_count": 4,
   "id": "0e6cf6ba-466a-40ee-997c-b1f885edf6c5",
   "metadata": {},
   "outputs": [
    {
     "data": {
      "text/plain": [
       "(28, 28)"
      ]
     },
     "execution_count": 4,
     "metadata": {},
     "output_type": "execute_result"
    }
   ],
   "source": [
    "train_X[5].shape"
   ]
  },
  {
   "cell_type": "code",
   "execution_count": 5,
   "id": "eb55a508-3e49-4415-88e6-40c64c322875",
   "metadata": {},
   "outputs": [
    {
     "data": {
      "text/plain": [
       "<matplotlib.image.AxesImage at 0x19f7fdc30d0>"
      ]
     },
     "execution_count": 5,
     "metadata": {},
     "output_type": "execute_result"
    },
    {
     "data": {
      "image/png": "[encoded data removed]",
      "text/plain": [
       "<Figure size 640x480 with 1 Axes>"
      ]
     },
     "metadata": {},
     "output_type": "display_data"
    }
   ],
   "source": [
    "plt.imshow(train_X[5],cmap=\"gray\")"
   ]
  },
  {
   "cell_type": "code",
   "execution_count": 6,
   "id": "f33e3a4d-718c-4c69-97a1-0d3ba3edfc18",
   "metadata": {},
   "outputs": [
    {
     "data": {
      "text/plain": [
       "2"
      ]
     },
     "execution_count": 6,
     "metadata": {},
     "output_type": "execute_result"
    }
   ],
   "source": [
    "train_Y[5]"
   ]
  },
  {
   "cell_type": "code",
   "execution_count": 7,
   "id": "1458b4cc-61a3-4f7e-b062-21601a892329",
   "metadata": {},
   "outputs": [],
   "source": [
    "# Preprocess the data \n",
    "image_height, image_width=28,28"
   ]
  },
  {
   "cell_type": "code",
   "execution_count": 8,
   "id": "1d984934-d392-4470-8f0e-0e691b16e485",
   "metadata": {},
   "outputs": [
    {
     "name": "stdout",
     "output_type": "stream",
     "text": [
      "(60000, 784)\n",
      "(10000, 784)\n"
     ]
    }
   ],
   "source": [
    "train_X=train_X.reshape(60000, image_height*image_width)\n",
    "test_X=test_X.reshape(10000, image_height*image_width)\n",
    "\n",
    "print(train_X.shape)\n",
    "print(test_X.shape)"
   ]
  },
  {
   "cell_type": "code",
   "execution_count": 9,
   "id": "b2843144-5217-45e9-aa91-553bcb3e2c2b",
   "metadata": {},
   "outputs": [
    {
     "name": "stdout",
     "output_type": "stream",
     "text": [
      "[  0   0   0   0   0   0   0   0   0   0   0   0   0   0   0   0   0   0\n",
      "   0   0   0   0   0   0   0   0   0   0   0   0   0   0   0   0   0   0\n",
      "   0   0   0   0   0   0   0   0   0   0   0   0   0   0   0   0   0   0\n",
      "   0   0   0   0   0   0   0   0   0   0   0   0   0   0   0   0   0   0\n",
      "   0   0   0   0   0   0   0   0   0   0   0   0   0   0   0   0   0   0\n",
      "   0   0   0   0   0   0   0   0   0   0   0   0   0   0   0   0   0   0\n",
      "   0   0   0   0   0   0   0   0   0   0   0   0   0   0   0   0   0   0\n",
      "   0   0   0   0   0   0   0   0   0   0   0   0   0   0   0   0   0   0\n",
      "   0   0   0   0   0   0   0   0   0   0   0  13  25 100 122   7   0   0\n",
      "   0   0   0   0   0   0   0   0   0   0   0   0   0   0   0   0   0   0\n",
      "   0  33 151 208 252 252 252 146   0   0   0   0   0   0   0   0   0   0\n",
      "   0   0   0   0   0   0   0   0   0  40 152 244 252 253 224 211 252 232\n",
      "  40   0   0   0   0   0   0   0   0   0   0   0   0   0   0   0   0  15\n",
      " 152 239 252 252 252 216  31  37 252 252  60   0   0   0   0   0   0   0\n",
      "   0   0   0   0   0   0   0   0   0  96 252 252 252 252 217  29   0  37\n",
      " 252 252  60   0   0   0   0   0   0   0   0   0   0   0   0   0   0   0\n",
      "   0 181 252 252 220 167  30   0   0  77 252 252  60   0   0   0   0   0\n",
      "   0   0   0   0   0   0   0   0   0   0   0  26 128  58  22   0   0   0\n",
      "   0 100 252 252  60   0   0   0   0   0   0   0   0   0   0   0   0   0\n",
      "   0   0   0   0   0   0   0   0   0   0   0 157 252 252  60   0   0   0\n",
      "   0   0   0   0   0   0   0   0   0   0   0   0   0   0   0   0   0 110\n",
      " 121 122 121 202 252 194   3   0   0   0   0   0   0   0   0   0   0   0\n",
      "   0   0   0   0   0   0  10  53 179 253 253 255 253 253 228  35   0   0\n",
      "   0   0   0   0   0   0   0   0   0   0   0   0   0   0   5  54 227 252\n",
      " 243 228 170 242 252 252 231 117   6   0   0   0   0   0   0   0   0   0\n",
      "   0   0   0   0   0   6  78 252 252 125  59   0  18 208 252 252 252 252\n",
      "  87   7   0   0   0   0   0   0   0   0   0   0   0   0   5 135 252 252\n",
      " 180  16   0  21 203 253 247 129 173 252 252 184  66  49  49   0   0   0\n",
      "   0   0   0   0   0   3 136 252 241 106  17   0  53 200 252 216  65   0\n",
      "  14  72 163 241 252 252 223   0   0   0   0   0   0   0   0 105 252 242\n",
      "  88  18  73 170 244 252 126  29   0   0   0   0   0  89 180 180  37   0\n",
      "   0   0   0   0   0   0   0 231 252 245 205 216 252 252 252 124   3   0\n",
      "   0   0   0   0   0   0   0   0   0   0   0   0   0   0   0   0   0 207\n",
      " 252 252 252 252 178 116  36   4   0   0   0   0   0   0   0   0   0   0\n",
      "   0   0   0   0   0   0   0   0   0  13  93 143 121  23   6   0   0   0\n",
      "   0   0   0   0   0   0   0   0   0   0   0   0   0   0   0   0   0   0\n",
      "   0   0   0   0   0   0   0   0   0   0   0   0   0   0   0   0   0   0\n",
      "   0   0   0   0   0   0   0   0   0   0   0   0   0   0   0   0   0   0\n",
      "   0   0   0   0   0   0   0   0   0   0   0   0   0   0   0   0   0   0\n",
      "   0   0   0   0   0   0   0   0   0   0   0   0   0   0   0   0   0   0\n",
      "   0   0   0   0   0   0   0   0   0   0   0   0   0   0   0   0   0   0\n",
      "   0   0   0   0   0   0   0   0   0   0   0   0   0   0   0   0   0   0\n",
      "   0   0   0   0   0   0   0   0   0   0   0   0   0   0   0   0   0   0\n",
      "   0   0   0   0   0   0   0   0   0   0]\n"
     ]
    }
   ],
   "source": [
    "print(train_X[5])"
   ]
  },
  {
   "cell_type": "code",
   "execution_count": 10,
   "id": "a02e8afe-7f32-475f-85ec-4a339dc48fef",
   "metadata": {},
   "outputs": [
    {
     "name": "stdout",
     "output_type": "stream",
     "text": [
      "[0.         0.         0.         0.         0.         0.\n",
      " 0.         0.         0.         0.         0.         0.\n",
      " 0.         0.         0.         0.         0.         0.\n",
      " 0.         0.         0.         0.         0.         0.\n",
      " 0.         0.         0.         0.         0.         0.\n",
      " 0.         0.         0.         0.         0.         0.\n",
      " 0.         0.         0.         0.         0.         0.\n",
      " 0.         0.         0.         0.         0.         0.\n",
      " 0.         0.         0.         0.         0.         0.\n",
      " 0.         0.         0.         0.         0.         0.\n",
      " 0.         0.         0.         0.         0.         0.\n",
      " 0.         0.         0.         0.         0.         0.\n",
      " 0.         0.         0.         0.         0.         0.\n",
      " 0.         0.         0.         0.         0.         0.\n",
      " 0.         0.         0.         0.         0.         0.\n",
      " 0.         0.         0.         0.         0.         0.\n",
      " 0.         0.         0.         0.         0.         0.\n",
      " 0.         0.         0.         0.         0.         0.\n",
      " 0.         0.         0.         0.         0.         0.\n",
      " 0.         0.         0.         0.         0.         0.\n",
      " 0.         0.         0.         0.         0.         0.\n",
      " 0.         0.         0.         0.         0.         0.\n",
      " 0.         0.         0.         0.         0.         0.\n",
      " 0.         0.         0.         0.         0.         0.\n",
      " 0.         0.         0.         0.         0.         0.\n",
      " 0.         0.         0.         0.         0.         0.05098039\n",
      " 0.09803922 0.39215687 0.47843137 0.02745098 0.         0.\n",
      " 0.         0.         0.         0.         0.         0.\n",
      " 0.         0.         0.         0.         0.         0.\n",
      " 0.         0.         0.         0.         0.         0.\n",
      " 0.         0.12941177 0.5921569  0.8156863  0.9882353  0.9882353\n",
      " 0.9882353  0.57254905 0.         0.         0.         0.\n",
      " 0.         0.         0.         0.         0.         0.\n",
      " 0.         0.         0.         0.         0.         0.\n",
      " 0.         0.         0.         0.15686275 0.59607846 0.95686275\n",
      " 0.9882353  0.99215686 0.8784314  0.827451   0.9882353  0.9098039\n",
      " 0.15686275 0.         0.         0.         0.         0.\n",
      " 0.         0.         0.         0.         0.         0.\n",
      " 0.         0.         0.         0.         0.         0.05882353\n",
      " 0.59607846 0.9372549  0.9882353  0.9882353  0.9882353  0.84705883\n",
      " 0.12156863 0.14509805 0.9882353  0.9882353  0.23529412 0.\n",
      " 0.         0.         0.         0.         0.         0.\n",
      " 0.         0.         0.         0.         0.         0.\n",
      " 0.         0.         0.         0.3764706  0.9882353  0.9882353\n",
      " 0.9882353  0.9882353  0.8509804  0.11372549 0.         0.14509805\n",
      " 0.9882353  0.9882353  0.23529412 0.         0.         0.\n",
      " 0.         0.         0.         0.         0.         0.\n",
      " 0.         0.         0.         0.         0.         0.\n",
      " 0.         0.70980394 0.9882353  0.9882353  0.8627451  0.654902\n",
      " 0.11764706 0.         0.         0.3019608  0.9882353  0.9882353\n",
      " 0.23529412 0.         0.         0.         0.         0.\n",
      " 0.         0.         0.         0.         0.         0.\n",
      " 0.         0.         0.         0.         0.         0.10196079\n",
      " 0.5019608  0.22745098 0.08627451 0.         0.         0.\n",
      " 0.         0.39215687 0.9882353  0.9882353  0.23529412 0.\n",
      " 0.         0.         0.         0.         0.         0.\n",
      " 0.         0.         0.         0.         0.         0.\n",
      " 0.         0.         0.         0.         0.         0.\n",
      " 0.         0.         0.         0.         0.         0.6156863\n",
      " 0.9882353  0.9882353  0.23529412 0.         0.         0.\n",
      " 0.         0.         0.         0.         0.         0.\n",
      " 0.         0.         0.         0.         0.         0.\n",
      " 0.         0.         0.         0.         0.         0.43137255\n",
      " 0.4745098  0.47843137 0.4745098  0.7921569  0.9882353  0.7607843\n",
      " 0.01176471 0.         0.         0.         0.         0.\n",
      " 0.         0.         0.         0.         0.         0.\n",
      " 0.         0.         0.         0.         0.         0.\n",
      " 0.03921569 0.20784314 0.7019608  0.99215686 0.99215686 1.\n",
      " 0.99215686 0.99215686 0.89411765 0.13725491 0.         0.\n",
      " 0.         0.         0.         0.         0.         0.\n",
      " 0.         0.         0.         0.         0.         0.\n",
      " 0.         0.         0.01960784 0.21176471 0.8901961  0.9882353\n",
      " 0.9529412  0.89411765 0.6666667  0.9490196  0.9882353  0.9882353\n",
      " 0.90588236 0.45882353 0.02352941 0.         0.         0.\n",
      " 0.         0.         0.         0.         0.         0.\n",
      " 0.         0.         0.         0.         0.         0.02352941\n",
      " 0.30588236 0.9882353  0.9882353  0.49019608 0.23137255 0.\n",
      " 0.07058824 0.8156863  0.9882353  0.9882353  0.9882353  0.9882353\n",
      " 0.34117648 0.02745098 0.         0.         0.         0.\n",
      " 0.         0.         0.         0.         0.         0.\n",
      " 0.         0.         0.01960784 0.5294118  0.9882353  0.9882353\n",
      " 0.7058824  0.0627451  0.         0.08235294 0.79607844 0.99215686\n",
      " 0.96862745 0.5058824  0.6784314  0.9882353  0.9882353  0.72156864\n",
      " 0.25882354 0.19215687 0.19215687 0.         0.         0.\n",
      " 0.         0.         0.         0.         0.         0.01176471\n",
      " 0.53333336 0.9882353  0.94509804 0.41568628 0.06666667 0.\n",
      " 0.20784314 0.78431374 0.9882353  0.84705883 0.25490198 0.\n",
      " 0.05490196 0.28235295 0.6392157  0.94509804 0.9882353  0.9882353\n",
      " 0.8745098  0.         0.         0.         0.         0.\n",
      " 0.         0.         0.         0.4117647  0.9882353  0.9490196\n",
      " 0.34509805 0.07058824 0.28627452 0.6666667  0.95686275 0.9882353\n",
      " 0.49411765 0.11372549 0.         0.         0.         0.\n",
      " 0.         0.34901962 0.7058824  0.7058824  0.14509805 0.\n",
      " 0.         0.         0.         0.         0.         0.\n",
      " 0.         0.90588236 0.9882353  0.9607843  0.8039216  0.84705883\n",
      " 0.9882353  0.9882353  0.9882353  0.4862745  0.01176471 0.\n",
      " 0.         0.         0.         0.         0.         0.\n",
      " 0.         0.         0.         0.         0.         0.\n",
      " 0.         0.         0.         0.         0.         0.8117647\n",
      " 0.9882353  0.9882353  0.9882353  0.9882353  0.69803923 0.45490196\n",
      " 0.14117648 0.01568628 0.         0.         0.         0.\n",
      " 0.         0.         0.         0.         0.         0.\n",
      " 0.         0.         0.         0.         0.         0.\n",
      " 0.         0.         0.         0.05098039 0.3647059  0.56078434\n",
      " 0.4745098  0.09019608 0.02352941 0.         0.         0.\n",
      " 0.         0.         0.         0.         0.         0.\n",
      " 0.         0.         0.         0.         0.         0.\n",
      " 0.         0.         0.         0.         0.         0.\n",
      " 0.         0.         0.         0.         0.         0.\n",
      " 0.         0.         0.         0.         0.         0.\n",
      " 0.         0.         0.         0.         0.         0.\n",
      " 0.         0.         0.         0.         0.         0.\n",
      " 0.         0.         0.         0.         0.         0.\n",
      " 0.         0.         0.         0.         0.         0.\n",
      " 0.         0.         0.         0.         0.         0.\n",
      " 0.         0.         0.         0.         0.         0.\n",
      " 0.         0.         0.         0.         0.         0.\n",
      " 0.         0.         0.         0.         0.         0.\n",
      " 0.         0.         0.         0.         0.         0.\n",
      " 0.         0.         0.         0.         0.         0.\n",
      " 0.         0.         0.         0.         0.         0.\n",
      " 0.         0.         0.         0.         0.         0.\n",
      " 0.         0.         0.         0.         0.         0.\n",
      " 0.         0.         0.         0.         0.         0.\n",
      " 0.         0.         0.         0.         0.         0.\n",
      " 0.         0.         0.         0.         0.         0.\n",
      " 0.         0.         0.         0.         0.         0.\n",
      " 0.         0.         0.         0.         0.         0.\n",
      " 0.         0.         0.         0.         0.         0.\n",
      " 0.         0.         0.         0.         0.         0.\n",
      " 0.         0.         0.         0.        ]\n"
     ]
    }
   ],
   "source": [
    "train_X=train_X.astype('float32')\n",
    "test_X=test_X.astype('float32')\n",
    "train_X/=255.0\n",
    "test_X/=255.0\n",
    "print(train_X[5])"
   ]
  },
  {
   "cell_type": "code",
   "execution_count": 11,
   "id": "6eaeec9f-f331-4364-a4b2-caeac3af5dd0",
   "metadata": {},
   "outputs": [
    {
     "name": "stdout",
     "output_type": "stream",
     "text": [
      "(60000,)\n",
      "(10000,)\n"
     ]
    }
   ],
   "source": [
    "print(train_Y.shape)\n",
    "print(test_Y.shape)"
   ]
  },
  {
   "cell_type": "code",
   "execution_count": 12,
   "id": "443ad0f4-05c8-4f6b-896b-767a342cee1c",
   "metadata": {},
   "outputs": [
    {
     "name": "stdout",
     "output_type": "stream",
     "text": [
      "(60000, 10)\n",
      "(10000, 10)\n"
     ]
    }
   ],
   "source": [
    "train_Y=to_categorical(train_Y,10)\n",
    "test_Y=to_categorical(test_Y,10)\n",
    "print(train_Y.shape)\n",
    "print(test_Y.shape)"
   ]
  },
  {
   "cell_type": "code",
   "execution_count": 13,
   "id": "b31ce554-4e40-4a73-9b71-98efb3e2c3f7",
   "metadata": {},
   "outputs": [
    {
     "data": {
      "text/plain": [
       "array([0., 0., 1., 0., 0., 0., 0., 0., 0., 0.], dtype=float32)"
      ]
     },
     "execution_count": 13,
     "metadata": {},
     "output_type": "execute_result"
    }
   ],
   "source": [
    "train_Y[5]"
   ]
  },
  {
   "cell_type": "code",
   "execution_count": 14,
   "id": "89f2c1f6-a0ec-4486-b10e-c3c86042ad52",
   "metadata": {},
   "outputs": [],
   "source": [
    "# Build a Model\n",
    "model=Sequential()\n",
    "\n",
    "model.add(Dense(512, activation='relu',input_shape=(784,)))\n",
    "model.add(Dense(512,activation='relu'))\n",
    "model.add(Dense(10,activation=\"softmax\"))"
   ]
  },
  {
   "cell_type": "code",
   "execution_count": 15,
   "id": "db104c2f-4772-4e98-97d7-0d8926050a05",
   "metadata": {},
   "outputs": [
    {
     "name": "stdout",
     "output_type": "stream",
     "text": [
      "Model: \"sequential\"\n",
      "_________________________________________________________________\n",
      " Layer (type)                Output Shape              Param #   \n",
      "=================================================================\n",
      " dense (Dense)               (None, 512)               401920    \n",
      "                                                                 \n",
      " dense_1 (Dense)             (None, 512)               262656    \n",
      "                                                                 \n",
      " dense_2 (Dense)             (None, 10)                5130      \n",
      "                                                                 \n",
      "=================================================================\n",
      "Total params: 669706 (2.55 MB)\n",
      "Trainable params: 669706 (2.55 MB)\n",
      "Non-trainable params: 0 (0.00 Byte)\n",
      "_________________________________________________________________\n"
     ]
    }
   ],
   "source": [
    "model.compile(optimizer=\"adam\",loss='categorical_crossentropy',metrics=[\"accuracy\"])\n",
    "model.summary()"
   ]
  },
  {
   "cell_type": "code",
   "execution_count": 16,
   "id": "266aa26f-9082-426e-9889-6afaedc3f319",
   "metadata": {},
   "outputs": [
    {
     "name": "stdout",
     "output_type": "stream",
     "text": [
      "Epoch 1/20\n",
      "1875/1875 [==============================] - 27s 14ms/step - loss: 0.1851 - accuracy: 0.9432 - val_loss: 0.1127 - val_accuracy: 0.9624\n",
      "Epoch 2/20\n",
      "1875/1875 [==============================] - 26s 14ms/step - loss: 0.0801 - accuracy: 0.9754 - val_loss: 0.0806 - val_accuracy: 0.9746\n",
      "Epoch 3/20\n",
      "1875/1875 [==============================] - 29s 15ms/step - loss: 0.0553 - accuracy: 0.9824 - val_loss: 0.0786 - val_accuracy: 0.9775\n",
      "Epoch 4/20\n",
      "1875/1875 [==============================] - 25s 13ms/step - loss: 0.0422 - accuracy: 0.9865 - val_loss: 0.0732 - val_accuracy: 0.9794\n",
      "Epoch 5/20\n",
      "1875/1875 [==============================] - 23s 12ms/step - loss: 0.0349 - accuracy: 0.9887 - val_loss: 0.0907 - val_accuracy: 0.9745\n",
      "Epoch 6/20\n",
      "1875/1875 [==============================] - 21s 11ms/step - loss: 0.0313 - accuracy: 0.9903 - val_loss: 0.0871 - val_accuracy: 0.9805\n",
      "Epoch 7/20\n",
      "1875/1875 [==============================] - 22s 12ms/step - loss: 0.0230 - accuracy: 0.9930 - val_loss: 0.0853 - val_accuracy: 0.9797\n",
      "Epoch 8/20\n",
      "1875/1875 [==============================] - 36s 19ms/step - loss: 0.0235 - accuracy: 0.9927 - val_loss: 0.1304 - val_accuracy: 0.9729\n",
      "Epoch 9/20\n",
      "1875/1875 [==============================] - 24s 13ms/step - loss: 0.0204 - accuracy: 0.9935 - val_loss: 0.0945 - val_accuracy: 0.9801\n",
      "Epoch 10/20\n",
      "1875/1875 [==============================] - 34s 18ms/step - loss: 0.0184 - accuracy: 0.9948 - val_loss: 0.0964 - val_accuracy: 0.9794\n",
      "Epoch 11/20\n",
      "1875/1875 [==============================] - 29s 16ms/step - loss: 0.0186 - accuracy: 0.9943 - val_loss: 0.1036 - val_accuracy: 0.9815\n",
      "Epoch 12/20\n",
      "1875/1875 [==============================] - 24s 13ms/step - loss: 0.0151 - accuracy: 0.9957 - val_loss: 0.1075 - val_accuracy: 0.9819\n",
      "Epoch 13/20\n",
      "1875/1875 [==============================] - 43s 23ms/step - loss: 0.0160 - accuracy: 0.9955 - val_loss: 0.1086 - val_accuracy: 0.9811\n",
      "Epoch 14/20\n",
      "1875/1875 [==============================] - 37s 20ms/step - loss: 0.0132 - accuracy: 0.9964 - val_loss: 0.1244 - val_accuracy: 0.9809\n",
      "Epoch 15/20\n",
      "1875/1875 [==============================] - 26s 14ms/step - loss: 0.0169 - accuracy: 0.9956 - val_loss: 0.1431 - val_accuracy: 0.9797\n",
      "Epoch 16/20\n",
      "1875/1875 [==============================] - 37s 20ms/step - loss: 0.0132 - accuracy: 0.9959 - val_loss: 0.1610 - val_accuracy: 0.9810\n",
      "Epoch 17/20\n",
      "1875/1875 [==============================] - 28s 15ms/step - loss: 0.0118 - accuracy: 0.9969 - val_loss: 0.1543 - val_accuracy: 0.9804\n",
      "Epoch 18/20\n",
      "1875/1875 [==============================] - 25s 13ms/step - loss: 0.0140 - accuracy: 0.9963 - val_loss: 0.1479 - val_accuracy: 0.9810\n",
      "Epoch 19/20\n",
      "1875/1875 [==============================] - 23s 12ms/step - loss: 0.0126 - accuracy: 0.9966 - val_loss: 0.1663 - val_accuracy: 0.9809\n",
      "Epoch 20/20\n",
      "1875/1875 [==============================] - 23s 12ms/step - loss: 0.0141 - accuracy: 0.9966 - val_loss: 0.1505 - val_accuracy: 0.9806\n"
     ]
    }
   ],
   "source": [
    "history= model.fit(train_X, train_Y, epochs=20, validation_data=(test_X, test_Y))"
   ]
  },
  {
   "cell_type": "code",
   "execution_count": 17,
   "id": "94776aa8-1c1e-4e95-b1be-4642fc863187",
   "metadata": {},
   "outputs": [
    {
     "data": {
      "text/plain": [
       "[<matplotlib.lines.Line2D at 0x19f7fe46510>]"
      ]
     },
     "execution_count": 17,
     "metadata": {},
     "output_type": "execute_result"
    },
    {
     "data": {
      "image/png": "[encoded data removed]",
      "text/plain": [
       "<Figure size 640x480 with 1 Axes>"
      ]
     },
     "metadata": {},
     "output_type": "display_data"
    }
   ],
   "source": [
    "plt.plot(history.history['accuracy'])"
   ]
  },
  {
   "cell_type": "code",
   "execution_count": 18,
   "id": "d3455bea-a660-41d3-94b0-36c771871c4d",
   "metadata": {},
   "outputs": [
    {
     "name": "stdout",
     "output_type": "stream",
     "text": [
      "313/313 [==============================] - 1s 5ms/step - loss: 0.1505 - accuracy: 0.9806\n"
     ]
    }
   ],
   "source": [
    "score= model.evaluate(test_X, test_Y)"
   ]
  },
  {
   "cell_type": "code",
   "execution_count": 19,
   "id": "5bd83181-cdc2-4380-96d5-fd478bd05f28",
   "metadata": {},
   "outputs": [],
   "source": [
    "(train_X, train_Y),(test_X, test_Y)=mnist.load_data()"
   ]
  },
  {
   "cell_type": "code",
   "execution_count": 20,
   "id": "c151020d-b612-41d5-ab4b-135aefa56427",
   "metadata": {},
   "outputs": [
    {
     "name": "stdout",
     "output_type": "stream",
     "text": [
      "Train: X= (60000, 28, 28)\n",
      "Train: Y= (60000,)\n",
      "Test: X= (10000, 28, 28)\n",
      "Test: Y= (10000,)\n"
     ]
    }
   ],
   "source": [
    "print('Train: X=',train_X.shape)\n",
    "print('Train: Y=',train_Y.shape)\n",
    "print('Test: X=',test_X.shape)\n",
    "print('Test: Y=',test_Y.shape)"
   ]
  },
  {
   "cell_type": "code",
   "execution_count": 21,
   "id": "0d88712b-c911-4cd2-8273-3a56212f590c",
   "metadata": {},
   "outputs": [],
   "source": [
    "train_X=train_X.reshape(60000,28,28,1)\n",
    "test_X=test_X.reshape(10000,28,28,1)"
   ]
  },
  {
   "cell_type": "code",
   "execution_count": 22,
   "id": "d3f72e68-da9f-43d0-a3cb-0638e8dac80d",
   "metadata": {},
   "outputs": [],
   "source": [
    "train_X=train_X.astype('float32')\n",
    "test_X=test_X.astype('float32')"
   ]
  },
  {
   "cell_type": "code",
   "execution_count": 23,
   "id": "c0fd8901-0a58-451e-9fca-51fc53193933",
   "metadata": {},
   "outputs": [],
   "source": [
    "train_X/=255.0\n",
    "test_X/=255.0"
   ]
  },
  {
   "cell_type": "code",
   "execution_count": 24,
   "id": "051cece2-ee0a-4377-8bfe-2f619fbced47",
   "metadata": {},
   "outputs": [],
   "source": [
    "train_Y=to_categorical(train_Y,10)\n",
    "test_Y=to_categorical(test_Y,10)"
   ]
  },
  {
   "cell_type": "code",
   "execution_count": 25,
   "id": "e690da67-b23f-467f-a40d-0195a27b5a57",
   "metadata": {},
   "outputs": [
    {
     "name": "stdout",
     "output_type": "stream",
     "text": [
      "Train: X= (60000, 28, 28, 1)\n",
      "Train: Y= (60000, 10)\n",
      "Test: X= (10000, 28, 28, 1)\n",
      "Test: Y= (10000, 10)\n"
     ]
    }
   ],
   "source": [
    "print('Train: X=',train_X.shape)\n",
    "print('Train: Y=',train_Y.shape)\n",
    "print('Test: X=',test_X.shape)\n",
    "print('Test: Y=',test_Y.shape)"
   ]
  },
  {
   "cell_type": "markdown",
   "id": "53afcd68-733b-4cd9-bf6c-bf118e2f0b14",
   "metadata": {},
   "source": [
    "#### CNN Model"
   ]
  },
  {
   "cell_type": "code",
   "execution_count": 26,
   "id": "d489719c-4cee-4900-bc87-c3971d9ced2b",
   "metadata": {},
   "outputs": [
    {
     "name": "stdout",
     "output_type": "stream",
     "text": [
      "Model: \"sequential_1\"\n",
      "_________________________________________________________________\n",
      " Layer (type)                Output Shape              Param #   \n",
      "=================================================================\n",
      " conv2d (Conv2D)             (None, 28, 28, 32)        320       \n",
      "                                                                 \n",
      " conv2d_1 (Conv2D)           (None, 28, 28, 64)        18496     \n",
      "                                                                 \n",
      " max_pooling2d (MaxPooling2  (None, 14, 14, 64)        0         \n",
      " D)                                                              \n",
      "                                                                 \n",
      " flatten (Flatten)           (None, 12544)             0         \n",
      "                                                                 \n",
      " dense_3 (Dense)             (None, 64)                802880    \n",
      "                                                                 \n",
      " dense_4 (Dense)             (None, 10)                650       \n",
      "                                                                 \n",
      "=================================================================\n",
      "Total params: 822346 (3.14 MB)\n",
      "Trainable params: 822346 (3.14 MB)\n",
      "Non-trainable params: 0 (0.00 Byte)\n",
      "_________________________________________________________________\n",
      "None\n"
     ]
    }
   ],
   "source": [
    "cnn=Sequential()\n",
    "cnn.add(Conv2D(32, kernel_size=(3,3),input_shape=(28,28,1),padding='same',activation='relu'))\n",
    "cnn.add(Conv2D(64,kernel_size=(3,3),padding='same',activation='relu'))\n",
    "cnn.add(MaxPooling2D(2,2))\n",
    "cnn.add(Flatten())\n",
    "cnn.add(Dense(64, activation='relu'))\n",
    "cnn.add(Dense(10,activation='softmax'))\n",
    "cnn.compile(optimizer='adam',loss='categorical_crossentropy',metrics=['accuracy'])\n",
    "print(cnn.summary())"
   ]
  },
  {
   "cell_type": "code",
   "execution_count": 29,
   "id": "ea4b8f94-4681-4688-a6a7-01965bee7d7a",
   "metadata": {},
   "outputs": [
    {
     "name": "stdout",
     "output_type": "stream",
     "text": [
      "Epoch 1/12\n",
      "1875/1875 [==============================] - 344s 184ms/step - loss: 0.0036 - accuracy: 0.9987 - val_loss: 0.0023 - val_accuracy: 0.9992\n",
      "Epoch 2/12\n",
      "1875/1875 [==============================] - 380s 203ms/step - loss: 0.0051 - accuracy: 0.9984 - val_loss: 0.0029 - val_accuracy: 0.9991\n",
      "Epoch 3/12\n",
      "1875/1875 [==============================] - 364s 194ms/step - loss: 0.0034 - accuracy: 0.9989 - val_loss: 0.0043 - val_accuracy: 0.9987\n",
      "Epoch 4/12\n",
      "1875/1875 [==============================] - 368s 196ms/step - loss: 0.0036 - accuracy: 0.9988 - val_loss: 0.0019 - val_accuracy: 0.9993\n",
      "Epoch 5/12\n",
      "1875/1875 [==============================] - 360s 192ms/step - loss: 0.0035 - accuracy: 0.9989 - val_loss: 0.0019 - val_accuracy: 0.9993\n",
      "Epoch 6/12\n",
      "1875/1875 [==============================] - 365s 195ms/step - loss: 0.0027 - accuracy: 0.9992 - val_loss: 0.0017 - val_accuracy: 0.9994\n",
      "Epoch 7/12\n",
      "1875/1875 [==============================] - 355s 189ms/step - loss: 0.0028 - accuracy: 0.9992 - val_loss: 0.0044 - val_accuracy: 0.9988\n",
      "Epoch 8/12\n",
      "1875/1875 [==============================] - 396s 211ms/step - loss: 0.0016 - accuracy: 0.9995 - val_loss: 7.1580e-04 - val_accuracy: 0.9998\n",
      "Epoch 9/12\n",
      "1875/1875 [==============================] - 401s 214ms/step - loss: 0.0036 - accuracy: 0.9990 - val_loss: 0.0014 - val_accuracy: 0.9995\n",
      "Epoch 10/12\n",
      "1875/1875 [==============================] - 424s 226ms/step - loss: 0.0015 - accuracy: 0.9996 - val_loss: 0.0039 - val_accuracy: 0.9991\n",
      "Epoch 11/12\n",
      "1875/1875 [==============================] - 454s 242ms/step - loss: 0.0031 - accuracy: 0.9991 - val_loss: 9.9947e-04 - val_accuracy: 0.9997\n",
      "Epoch 12/12\n",
      "1875/1875 [==============================] - 450s 240ms/step - loss: 0.0020 - accuracy: 0.9994 - val_loss: 0.0074 - val_accuracy: 0.9983\n"
     ]
    }
   ],
   "source": [
    "history_cnn=cnn.fit(train_X, train_Y, epochs=12, verbose=1, validation_data=(train_X, train_Y))"
   ]
  },
  {
   "cell_type": "code",
   "execution_count": 30,
   "id": "6dd19472-3269-47ca-a954-19807ad4c26c",
   "metadata": {},
   "outputs": [
    {
     "data": {
      "text/plain": [
       "[<matplotlib.lines.Line2D at 0x19f1dec9b90>]"
      ]
     },
     "execution_count": 30,
     "metadata": {},
     "output_type": "execute_result"
    },
    {
     "data": {
      "image/png": "[encoded data removed]",
      "text/plain": [
       "<Figure size 640x480 with 1 Axes>"
      ]
     },
     "metadata": {},
     "output_type": "display_data"
    }
   ],
   "source": [
    "plt.plot(history_cnn.history['accuracy'])"
   ]
  },
  {
   "cell_type": "code",
   "execution_count": 31,
   "id": "eab03ca1-91fc-4bcc-80ad-cea30b67f674",
   "metadata": {},
   "outputs": [
    {
     "data": {
      "text/plain": [
       "[<matplotlib.lines.Line2D at 0x19f2d075910>]"
      ]
     },
     "execution_count": 31,
     "metadata": {},
     "output_type": "execute_result"
    },
    {
     "data": {
      "image/png": "[encoded data removed]",
      "text/plain": [
       "<Figure size 640x480 with 1 Axes>"
      ]
     },
     "metadata": {},
     "output_type": "display_data"
    }
   ],
   "source": [
    "plt.plot(history_cnn.history['val_accuracy'])"
   ]
  }
 ],
 "metadata": {
  "kernelspec": {
   "display_name": "Python 3 (ipykernel)",
   "language": "python",
   "name": "python3"
  },
  "language_info": {
   "codemirror_mode": {
    "name": "ipython",
    "version": 3
   },
   "file_extension": ".py",
   "mimetype": "text/x-python",
   "name": "python",
   "nbconvert_exporter": "python",
   "pygments_lexer": "ipython3",
   "version": "3.11.5"
  }
 },
 "nbformat": 4,
 "nbformat_minor": 5
}
